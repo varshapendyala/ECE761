{
 "cells": [
  {
   "cell_type": "markdown",
   "metadata": {},
   "source": [
    "This was an assignment in this course, where we were asked to prove a variant of Universal Approximation theorem for 3 layer ReLu networks.\n"
    "------"
   ]
  },
  {
   "cell_type": "markdown",
   "metadata": {},
   "source": [
    "__Theorem to Prove__:\n",
    "\n",
    "Let $h:[0,1]^d \\rightarrow R$ be a continuous function. Then for any $\\epsilon > 0$ there exists a three-layer ReLU network g such that"
   ]
  },
  {
   "cell_type": "markdown",
   "metadata": {},
   "source": [
    "$$||g-h||^2 = \\int_{[0,1]^d}|g(x)-h(x)|^2 dx \\leq \\epsilon$$"
   ]
  },
  {
   "cell_type": "markdown",
   "metadata": {},
   "source": [
    "__Corollary to Prove__:\n",
    "\n",
    "Let $h:[0,1]^d \\rightarrow R$ be a L-Lipschitz function. Then for any $\\epsilon > 0$ there exists a three-layer ReLU network g with $N=O((\\frac{d}{\\epsilon^2})^{\\frac{d}{2}})$ nodes per layer such that"
   ]
  },
  {
   "cell_type": "markdown",
   "metadata": {},
   "source": [
    "$$||g-h||^2 = \\int_{[0,1]^d}|g(x)-h(x)|^2 dx \\leq \\epsilon$$"
   ]
  },
  {
   "cell_type": "markdown",
   "metadata": {},
   "source": [
    "#### [Varsha_quiz7](https://github.com/varshapendyala/ECE761/blob/master/Varsha_quiz7.pdf) gives my approach in proving the above theorems."
   ]
  }
 ],
 "metadata": {
  "kernelspec": {
   "display_name": "Python 3",
   "language": "python",
   "name": "python3"
  },
  "language_info": {
   "codemirror_mode": {
    "name": "ipython",
    "version": 3
   },
   "file_extension": ".py",
   "mimetype": "text/x-python",
   "name": "python",
   "nbconvert_exporter": "python",
   "pygments_lexer": "ipython3",
   "version": "3.7.1"
  }
 },
 "nbformat": 4,
 "nbformat_minor": 2
}
